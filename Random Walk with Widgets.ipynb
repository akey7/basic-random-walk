{
 "cells": [
  {
   "cell_type": "markdown",
   "metadata": {},
   "source": [
    "# Basic Random Walk\n",
    "\n",
    "This is a basic 1-dimensioanl random walk."
   ]
  },
  {
   "cell_type": "markdown",
   "metadata": {},
   "source": [
    "First, import the needed libraries"
   ]
  },
  {
   "cell_type": "code",
   "execution_count": 12,
   "metadata": {},
   "outputs": [],
   "source": [
    "import numpy as np\n",
    "from numpy import random\n",
    "import matplotlib.pyplot as plt\n",
    "\n",
    "from ipywidgets import interact, interactive, fixed, interact_manual\n",
    "import ipywidgets as widgets\n",
    "\n",
    "%matplotlib inline"
   ]
  },
  {
   "cell_type": "markdown",
   "metadata": {},
   "source": [
    "Now take the walks"
   ]
  },
  {
   "cell_type": "code",
   "execution_count": 23,
   "metadata": {},
   "outputs": [],
   "source": [
    "class RandomWalks:\n",
    "    def __init__(self):\n",
    "        \"\"\"\n",
    "        Initialize the attributes\n",
    "        \"\"\"\n",
    "        self.steps = np.zeros(1)\n",
    "        self.walks = np.zeros(1).reshape(-1, 1)\n",
    "        self.mean_dist = 0\n",
    "\n",
    "    def make_walks(self, number_of_walks, steps_in_each_walk):\n",
    "        \"\"\"\n",
    "        Parameters\n",
    "        ----------\n",
    "        number_of_walks : int\n",
    "            The number of random walks to make.\n",
    "\n",
    "        steps_in_each_walk : int\n",
    "            The number of steps to take in each walk.\n",
    "        \"\"\"\n",
    "        # Make random distances for each step\n",
    "        step_distances = random.randn(number_of_walks * (steps_in_each_walk - 1)).reshape(number_of_walks, -1)\n",
    "\n",
    "        # Make each walk start at step 0 by horizontally stacking 0s\n",
    "        # at the beginning of the walks\n",
    "\n",
    "        starts = np.zeros(step_distances.shape[0]).reshape(-1, 1)\n",
    "        walk_distances = np.hstack([starts, step_distances])\n",
    "        walks = walk_distances.cumsum(axis=1)\n",
    "\n",
    "        # Now make an array of integers that will serve as the x axis\n",
    "        steps = np.arange(walks.shape[1])\n",
    "\n",
    "        # Find the mean distance at the end of each walk by taking the mean\n",
    "        # of the last column of walks\n",
    "\n",
    "        mean_dist = walks[:, -1].mean()\n",
    "\n",
    "        # Store the results as instance attributes\n",
    "        self.walks = walks\n",
    "        self.steps = steps\n",
    "        self.mean_dist = mean_dist\n",
    "        \n",
    "    def plot_walks(self):\n",
    "        \"\"\"\n",
    "        Plots the walks\n",
    "        \"\"\"\n",
    "        # Copy the instance attributes to local variables\n",
    "        steps = self.steps\n",
    "        walks = self.walks\n",
    "        mean_dist = self.mean_dist\n",
    "        \n",
    "        # Colors, labels, and alpha settings for our lines\n",
    "        colors = ['r', 'g', 'b', 'm', 'c', 'y', 'orange', 'black']\n",
    "        labels = ['A', 'B', 'C', 'D', 'E', 'F', 'G', 'H']\n",
    "        alpha = 0.5\n",
    "\n",
    "        # Create a grid of 1 by 1 plots and size it\n",
    "        fig = plt.figure(figsize=(15, 5))\n",
    "        ax = fig.add_subplot(1, 1, 1)\n",
    "\n",
    "        # Make the axis labels\n",
    "        ax.set_ylabel('distance')\n",
    "        ax.set_xlabel('steps')\n",
    "\n",
    "        # Force the x axis limits to match the first and last step\n",
    "        # by default matplotlib may try to pad this which will make\n",
    "        # it look like a mess\n",
    "\n",
    "        ax.set_xlim(steps[0], steps[-1])\n",
    "\n",
    "        # Plot each walk. Zip together the iterables we will need and\n",
    "        # just plot to the same axes\n",
    "\n",
    "        for walk_idx, color, label in zip(range(walks.shape[0]), colors, labels):\n",
    "            ax.plot(steps, walks[walk_idx], label=label, color=color, lw=1)\n",
    "\n",
    "        # Behind every great plot is an inspirational legend.\n",
    "        # Make your here\n",
    "\n",
    "        ax.legend(loc='best')\n",
    "\n",
    "        # Make a line (and label for it) that show the mean distance\n",
    "        # convered by each walk\n",
    "\n",
    "        ax.axhline(mean_dist, 0, steps[-1])\n",
    "        ax.text(steps[-1] + 1, mean_dist, 'μ={:.2f}'.format(mean_dist))\n",
    "        \n",
    "# random.seed(13)\n",
    "# rw = RandomWalks()\n",
    "# rw.make_walks(5, 100)\n",
    "# rw.plot_walks()"
   ]
  },
  {
   "cell_type": "code",
   "execution_count": 24,
   "metadata": {},
   "outputs": [
    {
     "data": {
      "application/vnd.jupyter.widget-view+json": {
       "model_id": "a1ac56c9ca6647e393ee5a8d2f243bc8",
       "version_major": 2,
       "version_minor": 0
      },
      "text/plain": [
       "interactive(children=(IntSlider(value=5, description='number_of_walks', max=10), IntSlider(value=100, descript…"
      ]
     },
     "metadata": {},
     "output_type": "display_data"
    }
   ],
   "source": [
    "def generate_walks(number_of_walks, steps_in_each_walk):\n",
    "    rw = RandomWalks()\n",
    "    rw.make_walks(number_of_walks, steps_in_each_walk)\n",
    "    rw.plot_walks()\n",
    "\n",
    "interact_manual(generate_walks, number_of_walks=widgets.IntSlider(min=0, max=10, step=1, value=5), steps_in_each_walk=widgets.IntSlider(min=5, max=250, step=1, value=100));"
   ]
  },
  {
   "cell_type": "code",
   "execution_count": null,
   "metadata": {},
   "outputs": [],
   "source": []
  }
 ],
 "metadata": {
  "kernelspec": {
   "display_name": "Python 3",
   "language": "python",
   "name": "python3"
  },
  "language_info": {
   "codemirror_mode": {
    "name": "ipython",
    "version": 3
   },
   "file_extension": ".py",
   "mimetype": "text/x-python",
   "name": "python",
   "nbconvert_exporter": "python",
   "pygments_lexer": "ipython3",
   "version": "3.7.6"
  }
 },
 "nbformat": 4,
 "nbformat_minor": 4
}
